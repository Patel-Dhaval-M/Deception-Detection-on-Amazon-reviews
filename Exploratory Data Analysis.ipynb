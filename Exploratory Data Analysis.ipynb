{
 "cells": [
  {
   "cell_type": "code",
   "execution_count": 33,
   "metadata": {
    "collapsed": true
   },
   "outputs": [],
   "source": [
    "import csv                               # csv reader\n",
    "from sklearn.svm import LinearSVC\n",
    "from nltk.classify import SklearnClassifier\n",
    "from random import shuffle\n",
    "from sklearn.pipeline import Pipeline\n",
    "from sklearn.metrics import precision_recall_fscore_support\n",
    "from sklearn.metrics import accuracy_score\n",
    "import numpy as np\n",
    "import pandas as pd\n",
    "import seaborn as sns\n",
    "import matplotlib.pyplot as plt\n",
    "%matplotlib inline"
   ]
  },
  {
   "cell_type": "code",
   "execution_count": 18,
   "metadata": {
    "collapsed": true
   },
   "outputs": [],
   "source": [
    "# load data from a file and append it to the rawData\n",
    "def parseReview(reviewLine):\n",
    "    # Should return a triple of an integer, a string containing the review, and a string indicating the label\n",
    "    return (reviewLine[0], reviewLine[2], reviewLine[3], reviewLine[4], reviewLine[5], reviewLine[6], reviewLine[7], reviewLine[8], 'fake' if reviewLine[1] == '__label1__' else 'real')\n",
    "\n",
    "def loadData(path, Text=None):\n",
    "    with open(path, encoding='utf8') as f:\n",
    "        reader = csv.reader(f, delimiter='\\t')\n",
    "        next(reader)\n",
    "        for line in reader:\n",
    "            (DOC_ID, RATING, VERIFIED_PURCHASE, PRODUCT_CATEGORY, PRODUCT_ID, PRODUCT_TITLE, REVIEW_TITLE, REVIEW_TEXT, LABEL) = parseReview(line)\n",
    "            rawData.append((DOC_ID, RATING, VERIFIED_PURCHASE, PRODUCT_CATEGORY, PRODUCT_ID, PRODUCT_TITLE, REVIEW_TITLE, REVIEW_TEXT, LABEL))"
   ]
  },
  {
   "cell_type": "code",
   "execution_count": 19,
   "metadata": {},
   "outputs": [
    {
     "name": "stdout",
     "output_type": "stream",
     "text": [
      "Preparing the dataset...\n"
     ]
    }
   ],
   "source": [
    "rawData = []          # the filtered data from the dataset file (should be 21000 samples)\n",
    "\n",
    "# references to the data files\n",
    "reviewPath = 'amazon_reviews.txt'\n",
    "\n",
    "## Do the actual stuff\n",
    "# We parse the dataset and put it in a raw data list\n",
    "print (\"Preparing the dataset...\")\n",
    "loadData(reviewPath) "
   ]
  },
  {
   "cell_type": "code",
   "execution_count": 20,
   "metadata": {
    "collapsed": true
   },
   "outputs": [],
   "source": [
    "columns = [\"DOC_ID\", \"RATING\", \"VERIFIED_PURCHASE\", \"PRODUCT_CATEGORY\", \"PRODUCT_ID\", \"PRODUCT_TITLE\", \"REVIEW_TITLE\", \"REVIEW_TEXT\", \"LABEL\"]"
   ]
  },
  {
   "cell_type": "code",
   "execution_count": 24,
   "metadata": {
    "collapsed": true
   },
   "outputs": [],
   "source": [
    "data = pd.DataFrame.from_records(rawData, columns=columns)"
   ]
  },
  {
   "cell_type": "code",
   "execution_count": 25,
   "metadata": {},
   "outputs": [
    {
     "data": {
      "text/html": [
       "<div>\n",
       "<style scoped>\n",
       "    .dataframe tbody tr th:only-of-type {\n",
       "        vertical-align: middle;\n",
       "    }\n",
       "\n",
       "    .dataframe tbody tr th {\n",
       "        vertical-align: top;\n",
       "    }\n",
       "\n",
       "    .dataframe thead th {\n",
       "        text-align: right;\n",
       "    }\n",
       "</style>\n",
       "<table border=\"1\" class=\"dataframe\">\n",
       "  <thead>\n",
       "    <tr style=\"text-align: right;\">\n",
       "      <th></th>\n",
       "      <th>DOC_ID</th>\n",
       "      <th>RATING</th>\n",
       "      <th>VERIFIED_PURCHASE</th>\n",
       "      <th>PRODUCT_CATEGORY</th>\n",
       "      <th>PRODUCT_ID</th>\n",
       "      <th>PRODUCT_TITLE</th>\n",
       "      <th>REVIEW_TITLE</th>\n",
       "      <th>REVIEW_TEXT</th>\n",
       "      <th>LABEL</th>\n",
       "    </tr>\n",
       "  </thead>\n",
       "  <tbody>\n",
       "    <tr>\n",
       "      <th>0</th>\n",
       "      <td>1</td>\n",
       "      <td>4</td>\n",
       "      <td>N</td>\n",
       "      <td>PC</td>\n",
       "      <td>B00008NG7N</td>\n",
       "      <td>Targus PAUK10U Ultra Mini USB Keypad, Black</td>\n",
       "      <td>useful</td>\n",
       "      <td>When least you think so, this product will sav...</td>\n",
       "      <td>fake</td>\n",
       "    </tr>\n",
       "    <tr>\n",
       "      <th>1</th>\n",
       "      <td>2</td>\n",
       "      <td>4</td>\n",
       "      <td>Y</td>\n",
       "      <td>Wireless</td>\n",
       "      <td>B00LH0Y3NM</td>\n",
       "      <td>Note 3 Battery : Stalion Strength Replacement ...</td>\n",
       "      <td>New era for batteries</td>\n",
       "      <td>Lithium batteries are something new introduced...</td>\n",
       "      <td>fake</td>\n",
       "    </tr>\n",
       "    <tr>\n",
       "      <th>2</th>\n",
       "      <td>3</td>\n",
       "      <td>3</td>\n",
       "      <td>N</td>\n",
       "      <td>Baby</td>\n",
       "      <td>B000I5UZ1Q</td>\n",
       "      <td>Fisher-Price Papasan Cradle Swing, Starlight</td>\n",
       "      <td>doesn't swing very well.</td>\n",
       "      <td>I purchased this swing for my baby. She is 6 m...</td>\n",
       "      <td>fake</td>\n",
       "    </tr>\n",
       "    <tr>\n",
       "      <th>3</th>\n",
       "      <td>4</td>\n",
       "      <td>4</td>\n",
       "      <td>N</td>\n",
       "      <td>Office Products</td>\n",
       "      <td>B003822IRA</td>\n",
       "      <td>Casio MS-80B Standard Function Desktop Calculator</td>\n",
       "      <td>Great computing!</td>\n",
       "      <td>I was looking for an inexpensive desk calcolat...</td>\n",
       "      <td>fake</td>\n",
       "    </tr>\n",
       "    <tr>\n",
       "      <th>4</th>\n",
       "      <td>5</td>\n",
       "      <td>4</td>\n",
       "      <td>N</td>\n",
       "      <td>Beauty</td>\n",
       "      <td>B00PWSAXAM</td>\n",
       "      <td>Shine Whitening - Zero Peroxide Teeth Whitenin...</td>\n",
       "      <td>Only use twice a week</td>\n",
       "      <td>I only use it twice a week and the results are...</td>\n",
       "      <td>fake</td>\n",
       "    </tr>\n",
       "  </tbody>\n",
       "</table>\n",
       "</div>"
      ],
      "text/plain": [
       "  DOC_ID RATING VERIFIED_PURCHASE PRODUCT_CATEGORY  PRODUCT_ID  \\\n",
       "0      1      4                 N               PC  B00008NG7N   \n",
       "1      2      4                 Y         Wireless  B00LH0Y3NM   \n",
       "2      3      3                 N             Baby  B000I5UZ1Q   \n",
       "3      4      4                 N  Office Products  B003822IRA   \n",
       "4      5      4                 N           Beauty  B00PWSAXAM   \n",
       "\n",
       "                                       PRODUCT_TITLE  \\\n",
       "0        Targus PAUK10U Ultra Mini USB Keypad, Black   \n",
       "1  Note 3 Battery : Stalion Strength Replacement ...   \n",
       "2       Fisher-Price Papasan Cradle Swing, Starlight   \n",
       "3  Casio MS-80B Standard Function Desktop Calculator   \n",
       "4  Shine Whitening - Zero Peroxide Teeth Whitenin...   \n",
       "\n",
       "               REVIEW_TITLE  \\\n",
       "0                    useful   \n",
       "1     New era for batteries   \n",
       "2  doesn't swing very well.   \n",
       "3          Great computing!   \n",
       "4     Only use twice a week   \n",
       "\n",
       "                                         REVIEW_TEXT LABEL  \n",
       "0  When least you think so, this product will sav...  fake  \n",
       "1  Lithium batteries are something new introduced...  fake  \n",
       "2  I purchased this swing for my baby. She is 6 m...  fake  \n",
       "3  I was looking for an inexpensive desk calcolat...  fake  \n",
       "4  I only use it twice a week and the results are...  fake  "
      ]
     },
     "execution_count": 25,
     "metadata": {},
     "output_type": "execute_result"
    }
   ],
   "source": [
    "data.head()"
   ]
  },
  {
   "cell_type": "code",
   "execution_count": 26,
   "metadata": {},
   "outputs": [
    {
     "data": {
      "text/plain": [
       "LABEL  PRODUCT_CATEGORY      \n",
       "fake   Apparel                   350\n",
       "       Automotive                350\n",
       "       Baby                      350\n",
       "       Beauty                    350\n",
       "       Books                     350\n",
       "       Camera                    350\n",
       "       Electronics               350\n",
       "       Furniture                 350\n",
       "       Grocery                   350\n",
       "       Health & Personal Care    350\n",
       "       Home                      350\n",
       "       Home Entertainment        350\n",
       "       Home Improvement          350\n",
       "       Jewelry                   350\n",
       "       Kitchen                   350\n",
       "       Lawn and Garden           350\n",
       "       Luggage                   350\n",
       "       Musical Instruments       350\n",
       "       Office Products           350\n",
       "       Outdoors                  350\n",
       "       PC                        350\n",
       "       Pet Products              350\n",
       "       Shoes                     350\n",
       "       Sports                    350\n",
       "       Tools                     350\n",
       "       Toys                      350\n",
       "       Video DVD                 350\n",
       "       Video Games               350\n",
       "       Watches                   350\n",
       "       Wireless                  350\n",
       "real   Apparel                   350\n",
       "       Automotive                350\n",
       "       Baby                      350\n",
       "       Beauty                    350\n",
       "       Books                     350\n",
       "       Camera                    350\n",
       "       Electronics               350\n",
       "       Furniture                 350\n",
       "       Grocery                   350\n",
       "       Health & Personal Care    350\n",
       "       Home                      350\n",
       "       Home Entertainment        350\n",
       "       Home Improvement          350\n",
       "       Jewelry                   350\n",
       "       Kitchen                   350\n",
       "       Lawn and Garden           350\n",
       "       Luggage                   350\n",
       "       Musical Instruments       350\n",
       "       Office Products           350\n",
       "       Outdoors                  350\n",
       "       PC                        350\n",
       "       Pet Products              350\n",
       "       Shoes                     350\n",
       "       Sports                    350\n",
       "       Tools                     350\n",
       "       Toys                      350\n",
       "       Video DVD                 350\n",
       "       Video Games               350\n",
       "       Watches                   350\n",
       "       Wireless                  350\n",
       "Name: PRODUCT_CATEGORY, dtype: int64"
      ]
     },
     "execution_count": 26,
     "metadata": {},
     "output_type": "execute_result"
    }
   ],
   "source": [
    "data.groupby(data[\"LABEL\"]).PRODUCT_CATEGORY.value_counts()"
   ]
  },
  {
   "cell_type": "code",
   "execution_count": 27,
   "metadata": {},
   "outputs": [
    {
     "data": {
      "text/plain": [
       "LABEL  RATING\n",
       "fake   5         6059\n",
       "       4         1999\n",
       "       3          926\n",
       "       1          889\n",
       "       2          627\n",
       "real   5         6151\n",
       "       4         1974\n",
       "       3          942\n",
       "       1          868\n",
       "       2          565\n",
       "Name: RATING, dtype: int64"
      ]
     },
     "execution_count": 27,
     "metadata": {},
     "output_type": "execute_result"
    }
   ],
   "source": [
    "data.groupby(data[\"LABEL\"]).RATING.value_counts()"
   ]
  },
  {
   "cell_type": "code",
   "execution_count": 50,
   "metadata": {},
   "outputs": [
    {
     "data": {
      "image/png": "[encoded data removed]",
      "text/plain": [
       "<matplotlib.figure.Figure at 0x15eaa82cbe0>"
      ]
     },
     "metadata": {},
     "output_type": "display_data"
    }
   ],
   "source": [
    "rating_dist = data.groupby(data[\"LABEL\"]).RATING.value_counts()\n",
    "plt.figure(figsize=(20,8))\n",
    "sns.barplot(rating_dist.index, rating_dist.values, color=sns.xkcd_rgb[\"blue\"])\n",
    "plt.ylabel('Number of Occurrences')\n",
    "plt.xlabel('(Label, Rating)')\n",
    "plt.title('Rating distribution ')\n",
    "plt.xticks(rotation='horizontal')\n",
    "plt.show()"
   ]
  },
  {
   "cell_type": "code",
   "execution_count": 39,
   "metadata": {},
   "outputs": [
    {
     "data": {
      "text/plain": [
       "VERIFIED_PURCHASE  LABEL\n",
       "N                  fake     7623\n",
       "                   real     1679\n",
       "Y                  real     8821\n",
       "                   fake     2877\n",
       "Name: LABEL, dtype: int64"
      ]
     },
     "execution_count": 39,
     "metadata": {},
     "output_type": "execute_result"
    }
   ],
   "source": [
    "data.groupby(\"VERIFIED_PURCHASE\").LABEL.value_counts()"
   ]
  },
  {
   "cell_type": "code",
   "execution_count": 49,
   "metadata": {},
   "outputs": [
    {
     "data": {
      "image/png": "[encoded data removed]",
      "text/plain": [
       "<matplotlib.figure.Figure at 0x15eaa6e4fd0>"
      ]
     },
     "metadata": {},
     "output_type": "display_data"
    }
   ],
   "source": [
    "verified_purchase_dist = data.groupby(data[\"VERIFIED_PURCHASE\"]).LABEL.value_counts()\n",
    "plt.figure(figsize=(20,8))\n",
    "sns.barplot(verified_purchase_dist.index, verified_purchase_dist.values, color=sns.xkcd_rgb[\"blue\"])\n",
    "plt.ylabel('Counts')\n",
    "plt.xlabel('(Verified purchase, Label rating)')\n",
    "plt.title('Verified purchase distribution')\n",
    "plt.xticks(rotation='horizontal')\n",
    "plt.show()"
   ]
  },
  {
   "cell_type": "code",
   "execution_count": 52,
   "metadata": {},
   "outputs": [
    {
     "data": {
      "text/plain": [
       "LABEL\n",
       "fake    0.425097\n",
       "real    0.574903\n",
       "Name: REVIEW_LEN, dtype: float64"
      ]
     },
     "execution_count": 52,
     "metadata": {},
     "output_type": "execute_result"
    }
   ],
   "source": [
    "data[\"REVIEW_LEN\"] = data[\"REVIEW_TEXT\"].apply(len)\n",
    "tot = sum(data[\"REVIEW_LEN\"].values)\n",
    "data.groupby([\"LABEL\"]).REVIEW_LEN.agg(lambda x: sum(x)/tot)"
   ]
  },
  {
   "cell_type": "code",
   "execution_count": 55,
   "metadata": {},
   "outputs": [
    {
     "data": {
      "image/png": "[encoded data removed]",
      "text/plain": [
       "<matplotlib.figure.Figure at 0x15eaacc5518>"
      ]
     },
     "metadata": {},
     "output_type": "display_data"
    }
   ],
   "source": [
    "avg_len_distribution = data.groupby([\"LABEL\"]).REVIEW_LEN.agg(lambda x: sum(x)/tot)\n",
    "plt.figure(figsize=(20,8))\n",
    "sns.barplot(avg_len_distribution.index, avg_len_distribution.values, color=sns.xkcd_rgb[\"blue\"])\n",
    "plt.ylabel('Average length')\n",
    "plt.xlabel('Label')\n",
    "plt.title('Average length distribution')\n",
    "plt.xticks(rotation='horizontal')\n",
    "plt.show()"
   ]
  },
  {
   "cell_type": "code",
   "execution_count": 56,
   "metadata": {},
   "outputs": [
    {
     "name": "stdout",
     "output_type": "stream",
     "text": [
      "Collecting textstat\n",
      "  Downloading textstat-0.4.1.tar.gz\n",
      "Collecting pyphen (from textstat)\n",
      "  Downloading Pyphen-0.9.4-py2.py3-none-any.whl (1.9MB)\n",
      "Collecting repoze.lru (from textstat)\n",
      "  Downloading repoze.lru-0.7-py3-none-any.whl\n",
      "Building wheels for collected packages: textstat\n",
      "  Running setup.py bdist_wheel for textstat: started\n",
      "  Running setup.py bdist_wheel for textstat: finished with status 'done'\n",
      "  Stored in directory: C:\\Users\\Dhaval-PC\\AppData\\Local\\pip\\Cache\\wheels\\fb\\b5\\2f\\3b2f0f64c6fe3ab7ec4ed5ee5b5735867ab7810d7a62d9f34d\n",
      "Successfully built textstat\n",
      "Installing collected packages: pyphen, repoze.lru, textstat\n",
      "Successfully installed pyphen-0.9.4 repoze.lru-0.7 textstat-0.4.1\n"
     ]
    }
   ],
   "source": [
    "!pip install textstat"
   ]
  },
  {
   "cell_type": "code",
   "execution_count": 59,
   "metadata": {
    "collapsed": true
   },
   "outputs": [],
   "source": [
    "from textstat.textstat import textstat\n",
    "data[\"FK_Score\"] = data[\"REVIEW_TEXT\"].apply(textstat.flesch_kincaid_grade)"
   ]
  },
  {
   "cell_type": "code",
   "execution_count": 68,
   "metadata": {},
   "outputs": [
    {
     "data": {
      "text/plain": [
       "LABEL\n",
       "fake    5.795600\n",
       "real    5.848686\n",
       "Name: FK_Score, dtype: float64"
      ]
     },
     "execution_count": 68,
     "metadata": {},
     "output_type": "execute_result"
    }
   ],
   "source": [
    "data.groupby([\"LABEL\"]).FK_Score.agg(lambda x: sum(x)/len(x))"
   ]
  },
  {
   "cell_type": "code",
   "execution_count": 69,
   "metadata": {},
   "outputs": [
    {
     "data": {
      "image/png": "[encoded data removed]",
      "text/plain": [
       "<matplotlib.figure.Figure at 0x15eb0f5ea90>"
      ]
     },
     "metadata": {},
     "output_type": "display_data"
    }
   ],
   "source": [
    "avg_FK_score_distribution = data.groupby([\"LABEL\"]).FK_Score.agg(lambda x: sum(x)/len(x))\n",
    "plt.figure(figsize=(20,8))\n",
    "sns.barplot(avg_FK_score_distribution.index, avg_FK_score_distribution.values, color=sns.xkcd_rgb[\"blue\"])\n",
    "plt.ylabel('Average FK score')\n",
    "plt.xlabel('Label')\n",
    "plt.title('Average FK score distribution')\n",
    "plt.xticks(rotation='horizontal')\n",
    "plt.show()"
   ]
  },
  {
   "cell_type": "code",
   "execution_count": 74,
   "metadata": {
    "collapsed": true
   },
   "outputs": [],
   "source": [
    "import nltk\n",
    "stop_words = nltk.corpus.stopwords.words('english')\n",
    "def stopCount(x):\n",
    "    sum =0\n",
    "    for char in x.split():\n",
    "        sum+= char in stop_words\n",
    "    return sum\n",
    "data['stop_words_count'] = data['REVIEW_TEXT'].apply(stopCount)"
   ]
  },
  {
   "cell_type": "code",
   "execution_count": 75,
   "metadata": {},
   "outputs": [
    {
     "data": {
      "text/plain": [
       "LABEL\n",
       "fake    24.696190\n",
       "real    32.519048\n",
       "Name: stop_words_count, dtype: float64"
      ]
     },
     "execution_count": 75,
     "metadata": {},
     "output_type": "execute_result"
    }
   ],
   "source": [
    "data.groupby([\"LABEL\"]).stop_words_count.agg(lambda x: sum(x)/len(x))"
   ]
  },
  {
   "cell_type": "code",
   "execution_count": 76,
   "metadata": {},
   "outputs": [
    {
     "data": {
      "image/png": "[encoded data removed]",
      "text/plain": [
       "<matplotlib.figure.Figure at 0x15eb0feae80>"
      ]
     },
     "metadata": {},
     "output_type": "display_data"
    }
   ],
   "source": [
    "no_of_stop_words_distribution = data.groupby([\"LABEL\"]).stop_words_count.agg(lambda x: sum(x)/len(x))\n",
    "plt.figure(figsize=(20,8))\n",
    "sns.barplot(no_of_stop_words_distribution.index, no_of_stop_words_distribution.values, color=sns.xkcd_rgb[\"blue\"])\n",
    "plt.ylabel('Average number of stop words')\n",
    "plt.xlabel('Label')\n",
    "plt.title('Average number of stop words distribution')\n",
    "plt.xticks(rotation='horizontal')\n",
    "plt.show()"
   ]
  },
  {
   "cell_type": "code",
   "execution_count": 78,
   "metadata": {},
   "outputs": [
    {
     "data": {
      "text/plain": [
       "LABEL\n",
       "fake     8.712667\n",
       "real    12.099810\n",
       "Name: CAP_COUNT, dtype: float64"
      ]
     },
     "execution_count": 78,
     "metadata": {},
     "output_type": "execute_result"
    }
   ],
   "source": [
    "def capsCount(x):\n",
    "    sum =0\n",
    "    for char in x:\n",
    "        sum+= char in \"ABCDEFGHIJKLMNOPQRSTUVWXYZ\"\n",
    "    return sum\n",
    "data['CAP_COUNT'] = data['REVIEW_TEXT'].apply(capsCount)\n",
    "data.groupby([\"LABEL\"]).CAP_COUNT.agg(lambda x: sum(x)/len(x))"
   ]
  },
  {
   "cell_type": "code",
   "execution_count": 79,
   "metadata": {},
   "outputs": [
    {
     "data": {
      "image/png": "[encoded data removed]",
      "text/plain": [
       "<matplotlib.figure.Figure at 0x15eb0fe0400>"
      ]
     },
     "metadata": {},
     "output_type": "display_data"
    }
   ],
   "source": [
    "no_of_caps_distribution = data.groupby([\"LABEL\"]).CAP_COUNT.agg(lambda x: sum(x)/len(x))\n",
    "plt.figure(figsize=(20,8))\n",
    "sns.barplot(no_of_caps_distribution.index, no_of_caps_distribution.values, color=sns.xkcd_rgb[\"blue\"])\n",
    "plt.ylabel('Average No of capital chars')\n",
    "plt.xlabel('Label')\n",
    "plt.title('Average number of capital chars distribution')\n",
    "plt.xticks(rotation='horizontal')\n",
    "plt.show()"
   ]
  },
  {
   "cell_type": "code",
   "execution_count": 82,
   "metadata": {},
   "outputs": [
    {
     "data": {
      "text/plain": [
       "LABEL\n",
       "fake    10.182571\n",
       "real    15.571524\n",
       "Name: NO_OF_PUNCTUATION, dtype: float64"
      ]
     },
     "execution_count": 82,
     "metadata": {},
     "output_type": "execute_result"
    }
   ],
   "source": [
    "import string\n",
    "count = lambda l1,l2: sum([1 for x in l1 if x in l2])\n",
    "def punctCount(x):\n",
    "    return count(x, set(string.punctuation))\n",
    "data['NO_OF_PUNCTUATION'] = data['REVIEW_TEXT'].apply(punctCount)\n",
    "data.groupby([\"LABEL\"]).NO_OF_PUNCTUATION.agg(lambda x: sum(x)/len(x))"
   ]
  },
  {
   "cell_type": "code",
   "execution_count": 83,
   "metadata": {},
   "outputs": [
    {
     "data": {
      "image/png": "[encoded data removed]",
      "text/plain": [
       "<matplotlib.figure.Figure at 0x15eb2b20c50>"
      ]
     },
     "metadata": {},
     "output_type": "display_data"
    }
   ],
   "source": [
    "no_of_puncts_distribution = data.groupby([\"LABEL\"]).NO_OF_PUNCTUATION.agg(lambda x: sum(x)/len(x))\n",
    "plt.figure(figsize=(20,8))\n",
    "sns.barplot(no_of_puncts_distribution.index, no_of_puncts_distribution.values, color=sns.xkcd_rgb[\"blue\"])\n",
    "plt.ylabel('Average No of punctuations')\n",
    "plt.xlabel('Label')\n",
    "plt.title('Average number of punctuation distribution')\n",
    "plt.xticks(rotation='horizontal')\n",
    "plt.show()"
   ]
  },
  {
   "cell_type": "code",
   "execution_count": 86,
   "metadata": {
    "collapsed": true
   },
   "outputs": [],
   "source": [
    "import re\n",
    "import string\n",
    "match_list = []\n",
    "\n",
    "def checkName(title,text):\n",
    "    matches = []\n",
    "    for word in title.split():\n",
    "        word = \"\".join((char for char in word if char not in string.punctuation))\n",
    "        #print(word)\n",
    "        myreg = r'\\b'+word+r'\\b'\n",
    "        r = re.compile(myreg, flags=re.I | re.X)\n",
    "        matches.append(r.findall(text))\n",
    "    return len(matches)\n",
    "        \n",
    "for a,b in zip(data.PRODUCT_TITLE, data.REVIEW_TEXT):\n",
    "    number_of_matches = checkName(a,b)\n",
    "    match_list.append(number_of_matches)\n",
    "    \n",
    "data[\"MATCH_DF\"] = match_list"
   ]
  },
  {
   "cell_type": "code",
   "execution_count": 87,
   "metadata": {},
   "outputs": [
    {
     "data": {
      "text/plain": [
       "LABEL\n",
       "fake    13.823143\n",
       "real    10.570667\n",
       "Name: MATCH_DF, dtype: float64"
      ]
     },
     "execution_count": 87,
     "metadata": {},
     "output_type": "execute_result"
    }
   ],
   "source": [
    "data.groupby([\"LABEL\"]).MATCH_DF.agg(lambda x: sum(x)/len(x))"
   ]
  },
  {
   "cell_type": "code",
   "execution_count": 88,
   "metadata": {},
   "outputs": [
    {
     "data": {
      "image/png": "[encoded data removed]",
      "text/plain": [
       "<matplotlib.figure.Figure at 0x15eb3614080>"
      ]
     },
     "metadata": {},
     "output_type": "display_data"
    }
   ],
   "source": [
    "no_of_matches_distribution = data.groupby([\"LABEL\"]).MATCH_DF.agg(lambda x: sum(x)/len(x))\n",
    "plt.figure(figsize=(20,8))\n",
    "sns.barplot(no_of_matches_distribution.index, no_of_matches_distribution.values, color=sns.xkcd_rgb[\"blue\"])\n",
    "plt.ylabel('Average No of matches with product title')\n",
    "plt.xlabel('Label')\n",
    "plt.title('Average number of macthes with product title distribution')\n",
    "plt.xticks(rotation='horizontal')\n",
    "plt.show()"
   ]
  },
  {
   "cell_type": "code",
   "execution_count": 91,
   "metadata": {},
   "outputs": [
    {
     "data": {
      "text/plain": [
       "DOC_ID                object\n",
       "RATING                object\n",
       "VERIFIED_PURCHASE     object\n",
       "PRODUCT_CATEGORY      object\n",
       "PRODUCT_ID            object\n",
       "PRODUCT_TITLE         object\n",
       "REVIEW_TITLE          object\n",
       "REVIEW_TEXT           object\n",
       "LABEL                 object\n",
       "REVIEW_LEN             int64\n",
       "FK_Score             float64\n",
       "stop_words_count       int64\n",
       "CAP_COUNT              int64\n",
       "NO_OF_PUNCTUATION      int64\n",
       "matchesDf              int64\n",
       "MATCH_DF               int64\n",
       "dtype: object"
      ]
     },
     "execution_count": 91,
     "metadata": {},
     "output_type": "execute_result"
    }
   ],
   "source": [
    "data.dtypes"
   ]
  },
  {
   "cell_type": "code",
   "execution_count": 95,
   "metadata": {
    "collapsed": true
   },
   "outputs": [],
   "source": [
    "def convert_to_label(x):\n",
    "    if(x == '1' or x == '2'):\n",
    "        return 'negative'\n",
    "    else:\n",
    "        if (x == '4' or x == '5'):\n",
    "            return 'positive'\n",
    "        else: \n",
    "            return np.nan"
   ]
  },
  {
   "cell_type": "code",
   "execution_count": 96,
   "metadata": {
    "collapsed": true
   },
   "outputs": [],
   "source": [
    "data[\"sentiment\"] = data['RATING'].apply(convert_to_label)\n",
    "data = data.dropna()\n",
    "data.sentiment.value_counts()"
   ]
  },
  {
   "cell_type": "code",
   "execution_count": 100,
   "metadata": {
    "collapsed": true
   },
   "outputs": [],
   "source": [
    "data_pos = data[data['sentiment']=='positive'].sample(frac=0.2)\n",
    "data_neg = data[data['sentiment']=='negative']\n",
    "df = pd.concat([data_pos, data_neg], ignore_index=True)"
   ]
  },
  {
   "cell_type": "code",
   "execution_count": 124,
   "metadata": {
    "collapsed": true
   },
   "outputs": [],
   "source": [
    "rawData = df[[\"REVIEW_TEXT\", \"sentiment\"]]\n",
    "rawData = [tuple(x) for x in rawData.values]"
   ]
  },
  {
   "cell_type": "code",
   "execution_count": 126,
   "metadata": {},
   "outputs": [
    {
     "data": {
      "text/plain": [
       "('I have had this for about a month and love it....I am still learning all of the features but I have to say that this is the best camera I have owned. The images are very clear and bright,  zoom is fast and so is shutter time. I also like the pet photo function.',\n",
       " 'positive')"
      ]
     },
     "execution_count": 126,
     "metadata": {},
     "output_type": "execute_result"
    }
   ],
   "source": [
    "rawData[0]"
   ]
  },
  {
   "cell_type": "code",
   "execution_count": 127,
   "metadata": {
    "collapsed": true
   },
   "outputs": [],
   "source": [
    "def trainClassifier(trainData):\n",
    "    print(\"Training Classifier...\")\n",
    "    pipeline =  Pipeline([('svc', LinearSVC(C=0.01))])\n",
    "    return SklearnClassifier(pipeline).train(trainData)"
   ]
  },
  {
   "cell_type": "code",
   "execution_count": 128,
   "metadata": {
    "collapsed": true
   },
   "outputs": [],
   "source": [
    "import nltk.stem\n",
    "english_lemmantizer = nltk.stem.WordNetLemmatizer()\n",
    "def preProcess(text):\n",
    "    # Should return a list of tokens\n",
    "    lemmantized_list = [english_lemmantizer.lemmatize(word) for word in text.split(\" \")]\n",
    "    return [\" \".join(words) for words in nltk.bigrams(lemmantized_list)] + [\" \".join(words) for words in nltk.trigrams(lemmantized_list)] + lemmantized_list"
   ]
  },
  {
   "cell_type": "code",
   "execution_count": 129,
   "metadata": {
    "collapsed": true
   },
   "outputs": [],
   "source": [
    "# PREDICTING LABELS GIVEN A CLASSIFIER\n",
    "def predictLabels(reviewSamples, classifier):\n",
    "    #return classifier.classify_many(map(lambda t: toFeatureVector(preProcess(t[1])), reviewSamples))\n",
    "    return classifier.classify_many(map(lambda t: t[0], reviewSamples))\n",
    "\n",
    "def predictLabel(reviewSample, classifier):\n",
    "    return classifier.classify(toFeatureVector(preProcess(reviewSample)))"
   ]
  },
  {
   "cell_type": "code",
   "execution_count": 130,
   "metadata": {
    "collapsed": true
   },
   "outputs": [],
   "source": [
    "def crossValidate(dataset, folds):\n",
    "    shuffle(dataset)\n",
    "    cv_results = []\n",
    "    results = []\n",
    "    foldSize = int(len(dataset)/folds)\n",
    "    for i in range(0,len(dataset),foldSize):\n",
    "        #print(\"current fold %f\", i+1)\n",
    "        trainData = dataset[0:i] + dataset[i + foldSize:len(dataset)]\n",
    "        classifier = trainClassifier(trainData)\n",
    "        predictions = predictLabels(dataset[i:i+foldSize], classifier)\n",
    "        true_labels = list(map(lambda d: d[1], dataset[i:i+foldSize]))\n",
    "        a = accuracy_score(true_labels, predictions)\n",
    "        p, r, f1, _ = precision_recall_fscore_support(true_labels, predictions, average='macro')\n",
    "        results.append((p, r, f1, a))\n",
    "    #return cv_results\n",
    "    cv_results = np.mean(np.array(results), axis=0)\n",
    "    return cv_results"
   ]
  },
  {
   "cell_type": "code",
   "execution_count": 131,
   "metadata": {
    "collapsed": true
   },
   "outputs": [],
   "source": [
    "def trainClassifier(trainData):\n",
    "    print(\"Training Classifier...\")\n",
    "    pipeline =  Pipeline([('svc', LinearSVC())])\n",
    "    return SklearnClassifier(pipeline).train(trainData)"
   ]
  },
  {
   "cell_type": "code",
   "execution_count": 138,
   "metadata": {
    "collapsed": true
   },
   "outputs": [],
   "source": [
    "featureDict = {}\n",
    "def toFeatureVector(tokens):\n",
    "    # Should return a dictionary containing features as keys, and weights as values\n",
    "    localDict = {}\n",
    "    for token in tokens:\n",
    "        if token not in localDict:\n",
    "            localDict[token] = 1\n",
    "        else:\n",
    "            localDict[token] += 1\n",
    "            \n",
    "        if token not in featureDict:\n",
    "            featureDict[token] = 1\n",
    "        else:\n",
    "            featureDict[token] += 1\n",
    "    \n",
    "    return localDict"
   ]
  },
  {
   "cell_type": "code",
   "execution_count": 139,
   "metadata": {
    "collapsed": true
   },
   "outputs": [],
   "source": [
    "def splitData(percentage):\n",
    "    dataSamples = len(rawData)\n",
    "    halfOfData = int(len(rawData)/2)\n",
    "    trainingSamples = int((percentage*dataSamples)/2)\n",
    "    for (Text, Label) in rawData[:trainingSamples] + rawData[halfOfData:halfOfData+trainingSamples]:\n",
    "        trainData.append((toFeatureVector(preProcess(Text)),Label))\n",
    "    for (Text, Label) in rawData[trainingSamples:halfOfData] + rawData[halfOfData+trainingSamples:]:\n",
    "        testData.append((toFeatureVector(preProcess(Text)),Label))"
   ]
  },
  {
   "cell_type": "code",
   "execution_count": 140,
   "metadata": {},
   "outputs": [
    {
     "name": "stdout",
     "output_type": "stream",
     "text": [
      "Now 6186 rawData, 0 trainData, 0 testData\n",
      "Preparing training and test data...\n",
      "Now 6186 rawData, 4948 trainData, 1238 testData\n",
      "Training Samples: \n",
      "4948\n",
      "Features: \n",
      "576768\n",
      "Training Classifier...\n",
      "Training Classifier...\n",
      "Training Classifier...\n",
      "Training Classifier...\n",
      "Training Classifier...\n",
      "Training Classifier...\n",
      "Training Classifier...\n",
      "Training Classifier...\n",
      "Training Classifier...\n",
      "Training Classifier...\n",
      "Training Classifier...\n",
      "Results after cross-validations:  [0.83692277 0.83691262 0.83673429 0.84495767]\n"
     ]
    }
   ],
   "source": [
    "trainData = []        # the training data as a percentage of the total dataset (currently 80%, or 16800 samples)\n",
    "testData = []         # the test data as a percentage of the total dataset (currently 20%, or 4200 samples)\n",
    "\n",
    "print(\"Now %d rawData, %d trainData, %d testData\" % (len(rawData), len(trainData), len(testData)),\n",
    "      \"Preparing training and test data...\",sep='\\n')\n",
    "splitData(0.8)\n",
    "# We print the number of training samples and the number of features\n",
    "print(\"Now %d rawData, %d trainData, %d testData\" % (len(rawData), len(trainData), len(testData)),\n",
    "      \"Training Samples: \", len(trainData), \"Features: \", len(featureDict), sep='\\n')\n",
    "print(\"Results after cross-validations: \", crossValidate(trainData, 10))"
   ]
  },
  {
   "cell_type": "code",
   "execution_count": 141,
   "metadata": {},
   "outputs": [
    {
     "name": "stdout",
     "output_type": "stream",
     "text": [
      "4948\n",
      "Training Classifier...\n",
      "Precision:  0.8505736626717334\n",
      "Recall:  0.8505654281098546\n",
      "f1-score:  0.8505645505942381\n",
      "accuracy:  0.8505654281098546\n"
     ]
    }
   ],
   "source": [
    "print(len(trainData))\n",
    "classifier = trainClassifier(trainData)\n",
    "predictions = predictLabels(testData, classifier)\n",
    "true_labels = list(map(lambda d: d[1], testData))\n",
    "a = accuracy_score(true_labels, predictions)\n",
    "p, r, f1, _ = precision_recall_fscore_support(true_labels, predictions, average='macro')\n",
    "print(\"Precision: \", p)\n",
    "print(\"Recall: \", a)\n",
    "print(\"f1-score: \", f1)\n",
    "print(\"accuracy: \", a)"
   ]
  },
  {
   "cell_type": "code",
   "execution_count": null,
   "metadata": {
    "collapsed": true
   },
   "outputs": [],
   "source": []
  }
 ],
 "metadata": {
  "kernelspec": {
   "display_name": "Python 3",
   "language": "python",
   "name": "python3"
  },
  "language_info": {
   "codemirror_mode": {
    "name": "ipython",
    "version": 3
   },
   "file_extension": ".py",
   "mimetype": "text/x-python",
   "name": "python",
   "nbconvert_exporter": "python",
   "pygments_lexer": "ipython3",
   "version": "3.5.4"
  }
 },
 "nbformat": 4,
 "nbformat_minor": 2
}
